{
 "cells": [
  {
   "cell_type": "code",
   "execution_count": 90,
   "metadata": {},
   "outputs": [],
   "source": [
    "import pandas as pd\n",
    "import numpy as np\n",
    "import matplotlib.pyplot as plt\n",
    "import seaborn as sns\n",
    "from sklearn.ensemble import RandomForestClassifier\n",
    "from sklearn.metrics import accuracy_score\n",
    "from sklearn.model_selection import train_test_split\n"
   ]
  },
  {
   "cell_type": "code",
   "execution_count": 91,
   "metadata": {},
   "outputs": [],
   "source": [
    "# load all of the datasets\n",
    "test_values = pd.read_csv(\"~/Github/driven_data/Pump It Up/data/702ddfc5-68cd-4d1d-a0de-f5f566f76d91.csv\")\n",
    "train_labels = pd.read_csv(\"~/Github/driven_data/Pump It Up/data/0bf8bc6e-30d0-4c50-956a-603fc693d966.csv\")\n",
    "train_values = pd.read_csv(\"~/Github/driven_data/Pump It Up/data/4910797b-ee55-40a7-8668-10efd5c1b960.csv\")"
   ]
  },
  {
   "cell_type": "code",
   "execution_count": 92,
   "metadata": {},
   "outputs": [],
   "source": [
    "# column_labels.remove(\"id\")\n",
    "# column_labels.remove(\"amount_tsh\")\n",
    "# column_labels.remove(\"date_recorded\")\n",
    "# column_labels.remove(\"funder\")\n",
    "# column_labels.remove(\"gps_height\")\n",
    "# column_labels.remove(\"installer\")\n",
    "# column_labels.remove(\"longitude\")\n",
    "# column_labels.remove(\"latitude\")\n",
    "# column_labels.remove(\"wpt_name\")\n",
    "# column_labels.remove(\"num_private\")\n",
    "# column_labels.remove(\"basin\")\n",
    "# column_labels.remove(\"subvillage\")\n",
    "# column_labels.remove(\"region\")\n",
    "# column_labels.remove(\"region_code\")\n",
    "# column_labels.remove(\"district_code\")\n",
    "# column_labels.remove(\"lga\")\n",
    "# column_labels.remove(\"ward\")\n",
    "# column_labels.remove(\"population\")\n",
    "# column_labels.remove(\"public_meeting\")\n",
    "# column_labels.remove(\"recorded_by\")\n",
    "# column_labels.remove(\"scheme_management\")\n",
    "# column_labels.remove(\"scheme_name\")\n",
    "# column_labels.remove(\"permit\")\n",
    "# column_labels.remove(\"construction_year\")\n",
    "# column_labels.remove(\"extraction_type\")\n",
    "# column_labels.remove(\"extraction_type_group\")\n",
    "# column_labels.remove(\"extraction_type_class\")\n",
    "# column_labels.remove(\"management\")\n",
    "# column_labels.remove(\"management_group\")\n",
    "# column_labels.remove(\"payment\")\n",
    "# column_labels.remove(\"payment_type\")\n",
    "# column_labels.remove(\"water_quality\")\n",
    "# column_labels.remove(\"quality_group\")\n",
    "# column_labels.remove(\"quantity\")\n",
    "# column_labels.remove(\"quantity_group\")\n",
    "# column_labels.remove(\"source\")\n",
    "# column_labels.remove(\"source_type\")\n",
    "# column_labels.remove(\"source_class\")\n",
    "# column_labels.remove(\"waterpoint_type\")\n",
    "# column_labels.remove(\"waterpoint_type_group\")"
   ]
  },
  {
   "cell_type": "code",
   "execution_count": 93,
   "metadata": {},
   "outputs": [
    {
     "name": "stdout",
     "output_type": "stream",
     "text": [
      "3\n"
     ]
    }
   ],
   "source": [
    "# preprocess the labels\n",
    "column_labels = list(train_labels.columns.values)\n",
    "column_labels.remove(\"id\")\n",
    "\n",
    "for i in column_labels:\n",
    "    unique_value = train_labels[i].unique()\n",
    "    size = len(unique_value)\n",
    "    print(size)\n",
    "    for j in range(size):\n",
    "        if unique_value[j] != \"nan\":\n",
    "            train_labels.loc[train_labels[i] == unique_value[j], i] = j\n",
    "            \n"
   ]
  },
  {
   "cell_type": "code",
   "execution_count": 94,
   "metadata": {},
   "outputs": [
    {
     "name": "stdout",
     "output_type": "stream",
     "text": [
      "installer 2411\n",
      "basin 9\n",
      "subvillage 21426\n",
      "lga 125\n",
      "ward 2098\n",
      "public_meeting 3\n",
      "scheme_management 13\n",
      "scheme_name 2869\n",
      "permit 3\n",
      "extraction_type 18\n",
      "extraction_type_group 13\n",
      "extraction_type_class 7\n",
      "management 12\n",
      "management_group 5\n",
      "payment 7\n",
      "payment_type 7\n",
      "water_quality 8\n",
      "quality_group 6\n",
      "quantity 5\n",
      "quantity_group 5\n",
      "source 10\n",
      "source_type 7\n",
      "source_class 3\n",
      "waterpoint_type 7\n",
      "waterpoint_type_group 6\n"
     ]
    }
   ],
   "source": [
    "# preprocess the values\n",
    "column_labels = list(train_values.columns.values)\n",
    "column_labels.remove(\"id\")\n",
    "column_labels.remove(\"amount_tsh\")\n",
    "column_labels.remove(\"date_recorded\")\n",
    "column_labels.remove(\"funder\")\n",
    "column_labels.remove(\"gps_height\")\n",
    "column_labels.remove(\"longitude\")\n",
    "column_labels.remove(\"latitude\")\n",
    "column_labels.remove(\"wpt_name\")\n",
    "column_labels.remove(\"num_private\")\n",
    "# column_labels.remove('subvillage')\n",
    "column_labels.remove('region')\n",
    "column_labels.remove(\"region_code\")\n",
    "column_labels.remove(\"district_code\")\n",
    "column_labels.remove(\"population\")\n",
    "column_labels.remove(\"recorded_by\")\n",
    "column_labels.remove(\"construction_year\")\n",
    "# column_labels.remove('extraction_type')\n",
    "# column_labels.remove('extraction_type_group')\n",
    "# column_labels.remove('payment')\n",
    "# column_labels.remove('water_quality')\n",
    "# column_labels.remove('quantity')\n",
    "# column_labels.remove('source')\n",
    "# column_labels.remove('source_type')\n",
    "# column_labels.remove('waterpoint_type')\n",
    "\n",
    "\n",
    "test_values = test_values.fillna(test_values.median())\n",
    "\n",
    "for i in column_labels:\n",
    "    unique_value = list(set(np.concatenate((train_values[i].unique() , test_values[i].unique()))))\n",
    "    size = len(unique_value)\n",
    "    print(i, size)\n",
    "    for j in range(size):\n",
    "        if unique_value[j] != \"nan\":\n",
    "            train_values.loc[train_values[i] == unique_value[j], i] = j\n",
    "            test_values.loc[test_values[i] == unique_value[j], i] = j\n",
    "\n",
    "\"\"\"for col in [\n",
    "'amount_tsh',\n",
    "'gps_height',\n",
    "'longitude',\n",
    "'population', \n",
    "'construction_year' ]:\n",
    "    for df in [train_values, test_values]:\n",
    "        mean_value = df[col].mean(skipna=True)\n",
    "        df[col] = df[col].mask(df[col] == 0, mean_value)\n",
    "    \"\"\"\n",
    "train_values = train_values.fillna(train_values.median())\n",
    "test_values = test_values.fillna(test_values.median())"
   ]
  },
  {
   "cell_type": "code",
   "execution_count": 103,
   "metadata": {},
   "outputs": [],
   "source": [
    "column_labels = list(train_values.columns.values)\n",
    "column_labels = list(train_values.columns.values)\n",
    "column_labels.remove(\"id\")\n",
    "column_labels.remove(\"date_recorded\")\n",
    "column_labels.remove(\"funder\")\n",
    "column_labels.remove(\"wpt_name\")\n",
    "column_labels.remove('subvillage')\n",
    "column_labels.remove('region')\n",
    "column_labels.remove(\"recorded_by\")\n",
    "# column_labels.remove('extraction_type')\n",
    "# column_labels.remove('extraction_type_group')\n",
    "column_labels.remove('payment')\n",
    "# column_labels.remove('water_quality')\n",
    "# column_labels.remove('quantity')\n",
    "# column_labels.remove('source')\n",
    "# column_labels.remove('source_type')\n",
    "# column_labels.remove('waterpoint_type')\n",
    "status_group = [\"functional\", \"non functional\", \"functional needs repair\"]"
   ]
  },
  {
   "cell_type": "code",
   "execution_count": 104,
   "metadata": {},
   "outputs": [],
   "source": [
    "clf = RandomForestClassifier(n_estimators= 200, n_jobs= -1)"
   ]
  },
  {
   "cell_type": "code",
   "execution_count": 105,
   "metadata": {},
   "outputs": [],
   "source": [
    "X = train_values[column_labels]\n",
    "y = train_labels['status_group']\n",
    "X_train, X_test, y_train, y_test = train_test_split(X, y, test_size=0.25, random_state=42)"
   ]
  },
  {
   "cell_type": "code",
   "execution_count": 106,
   "metadata": {},
   "outputs": [
    {
     "data": {
      "text/plain": [
       "RandomForestClassifier(bootstrap=True, class_weight=None, criterion='gini',\n",
       "            max_depth=None, max_features='auto', max_leaf_nodes=None,\n",
       "            min_impurity_decrease=0.0, min_impurity_split=None,\n",
       "            min_samples_leaf=1, min_samples_split=2,\n",
       "            min_weight_fraction_leaf=0.0, n_estimators=200, n_jobs=-1,\n",
       "            oob_score=False, random_state=None, verbose=0,\n",
       "            warm_start=False)"
      ]
     },
     "execution_count": 106,
     "metadata": {},
     "output_type": "execute_result"
    }
   ],
   "source": [
    "clf.fit(X_train, y_train)"
   ]
  },
  {
   "cell_type": "code",
   "execution_count": 107,
   "metadata": {},
   "outputs": [
    {
     "name": "stdout",
     "output_type": "stream",
     "text": [
      "Tree Score: 0.8016835016835017\n"
     ]
    }
   ],
   "source": [
    "accuracy = accuracy_score(clf.predict(X_test), y_test)\n",
    "print(\"Tree Score: {}\".format(tree_score))\n",
    "# 80.1% with adding mean to 0"
   ]
  },
  {
   "cell_type": "code",
   "execution_count": 59,
   "metadata": {},
   "outputs": [
    {
     "data": {
      "text/plain": [
       "array([1, 0, 0, ..., 0, 0, 1])"
      ]
     },
     "execution_count": 59,
     "metadata": {},
     "output_type": "execute_result"
    }
   ],
   "source": [
    "clf.fit(train_values[column_labels], train_labels['status_group'])\n",
    "clf.predict(test_values[column_labels])"
   ]
  },
  {
   "cell_type": "code",
   "execution_count": 60,
   "metadata": {},
   "outputs": [],
   "source": [
    "test_values['predict'] = clf.predict(test_values[column_labels])\n",
    "test_values['status_group'] = test_values['predict'].apply(lambda x: status_group[x])"
   ]
  },
  {
   "cell_type": "code",
   "execution_count": 61,
   "metadata": {},
   "outputs": [],
   "source": [
    "test_values[['id', 'status_group']].to_csv('submission.csv',index = False)"
   ]
  },
  {
   "cell_type": "code",
   "execution_count": 62,
   "metadata": {},
   "outputs": [
    {
     "data": {
      "text/plain": [
       "array([2012, 2000, 2010, 1987, 1990, 2007, 1982, 1997, 2003, 2006, 2002,\n",
       "          0, 1984, 1989, 1978, 2008, 2005, 1970, 2009, 1998, 1971, 1972,\n",
       "       1983, 1974, 1992, 1999, 2004, 2011, 1988, 1962, 1986, 1985, 1969,\n",
       "       1996, 1994, 1960, 1975, 1981, 1995, 1963, 1977, 2001, 1993, 1991,\n",
       "       1976, 1980, 2013, 1979, 1967, 1973, 1968, 1965, 1961, 1966, 1964])"
      ]
     },
     "execution_count": 62,
     "metadata": {},
     "output_type": "execute_result"
    }
   ],
   "source": [
    "test_values['construction_year'].unique()"
   ]
  },
  {
   "cell_type": "code",
   "execution_count": 115,
   "metadata": {},
   "outputs": [
    {
     "name": "stdout",
     "output_type": "stream",
     "text": [
      "(<59400x3395438 sparse matrix of type '<class 'numpy.int64'>'\n",
      "\twith 222234298 stored elements in Compressed Sparse Row format>, array([      0,   16849,   33864,   50985,   68234,   85213,  102338,\n",
      "        118859,  135918,  152599,  169766,  186831,  203702,  220727,\n",
      "        237664,  254353,  271206,  288559,  305288,  322077,  339184,\n",
      "        355993,  372966,  389881,  406646,  423725,  440660,  457851,\n",
      "        474920,  491759,  508598,  525509,  542432,  559511,  576692,\n",
      "        593611,  610680,  627669,  644730,  661649,  678764,  695853,\n",
      "        712954,  729937,  746690,  763477,  780452,  797355,  814592,\n",
      "        831413,  848402,  865429,  882494,  899435,  916342,  933413,\n",
      "        950586,  967673,  984818, 1001597, 1018684, 1035847, 1052990,\n",
      "       1070121, 1086804, 1103935, 1120734, 1137677, 1154572, 1171607,\n",
      "       1188672, 1205671, 1222598, 1239675, 1256528, 1273341, 1290176,\n",
      "       1307155, 1324224, 1341375, 1358348, 1375535, 1392506, 1409459,\n",
      "       1426700, 1443411, 1460590, 1477685, 1494722, 1511997, 1528912,\n",
      "       1545813, 1562714, 1579593, 1596596, 1613667, 1630970, 1647777,\n",
      "       1664582, 1681637, 1698590, 1715277, 1732302, 1749315, 1766536,\n",
      "       1783535, 1800542, 1817431, 1834488, 1851375, 1868306, 1885191,\n",
      "       1902172, 1919135, 1936206, 1953063, 1969922, 1986819, 2003742,\n",
      "       2020895, 2038030, 2054879, 2072028, 2089113, 2105948, 2123097,\n",
      "       2140096, 2156931, 2173862, 2190929, 2207866, 2224851, 2241800,\n",
      "       2258667, 2275592, 2292263, 2309416, 2326443, 2343348, 2360139,\n",
      "       2376964, 2394149, 2411340, 2428285, 2445380, 2462293, 2478980,\n",
      "       2495819, 2513030, 2529853, 2546738, 2563905, 2580612, 2597267,\n",
      "       2614142, 2631491, 2648538, 2665303, 2682144, 2699065, 2715902,\n",
      "       2732839, 2749990, 2766715, 2783584, 2800499, 2817352, 2834301,\n",
      "       2851382, 2868223, 2885166, 2902083, 2919008, 2936185, 2953122,\n",
      "       2970101, 2987000, 3003837, 3021026, 3037817, 3054756, 3071861,\n",
      "       3088746, 3105661, 3122654, 3139725, 3156616, 3173725, 3190716,\n",
      "       3207897, 3224976, 3242241, 3259266, 3276211, 3293310, 3310311,\n",
      "       3327536, 3344557, 3361554, 3378583, 3395438]))\n"
     ]
    }
   ],
   "source": [
    "print(clf.decision_path(train_values[column_labels]))"
   ]
  },
  {
   "cell_type": "code",
   "execution_count": 138,
   "metadata": {},
   "outputs": [
    {
     "data": {
      "image/png": "[encoded data removed]",
      "text/plain": [
       "<Figure size 432x288 with 1 Axes>"
      ]
     },
     "metadata": {
      "needs_background": "light"
     },
     "output_type": "display_data"
    }
   ],
   "source": [
    "df = pd.DataFrame({'x':column_labels, 'y':clf.feature_importances_})\n",
    "sns.barplot(x = 'x', y = 'y', data = df[df['y'] < .01])\n",
    "plt.xticks(rotation = 90)\n",
    "plt.show()"
   ]
  },
  {
   "cell_type": "code",
   "execution_count": 131,
   "metadata": {},
   "outputs": [
    {
     "data": {
      "text/html": [
       "<div>\n",
       "<style scoped>\n",
       "    .dataframe tbody tr th:only-of-type {\n",
       "        vertical-align: middle;\n",
       "    }\n",
       "\n",
       "    .dataframe tbody tr th {\n",
       "        vertical-align: top;\n",
       "    }\n",
       "\n",
       "    .dataframe thead th {\n",
       "        text-align: right;\n",
       "    }\n",
       "</style>\n",
       "<table border=\"1\" class=\"dataframe\">\n",
       "  <thead>\n",
       "    <tr style=\"text-align: right;\">\n",
       "      <th></th>\n",
       "      <th>x</th>\n",
       "      <th>y</th>\n",
       "    </tr>\n",
       "  </thead>\n",
       "  <tbody>\n",
       "    <tr>\n",
       "      <th>0</th>\n",
       "      <td>amount_tsh</td>\n",
       "      <td>0.025046</td>\n",
       "    </tr>\n",
       "    <tr>\n",
       "      <th>1</th>\n",
       "      <td>gps_height</td>\n",
       "      <td>0.060927</td>\n",
       "    </tr>\n",
       "    <tr>\n",
       "      <th>2</th>\n",
       "      <td>installer</td>\n",
       "      <td>0.035871</td>\n",
       "    </tr>\n",
       "    <tr>\n",
       "      <th>3</th>\n",
       "      <td>longitude</td>\n",
       "      <td>0.120731</td>\n",
       "    </tr>\n",
       "    <tr>\n",
       "      <th>4</th>\n",
       "      <td>latitude</td>\n",
       "      <td>0.119749</td>\n",
       "    </tr>\n",
       "  </tbody>\n",
       "</table>\n",
       "</div>"
      ],
      "text/plain": [
       "            x         y\n",
       "0  amount_tsh  0.025046\n",
       "1  gps_height  0.060927\n",
       "2   installer  0.035871\n",
       "3   longitude  0.120731\n",
       "4    latitude  0.119749"
      ]
     },
     "execution_count": 131,
     "metadata": {},
     "output_type": "execute_result"
    }
   ],
   "source": [
    "df.head()"
   ]
  },
  {
   "cell_type": "code",
   "execution_count": 139,
   "metadata": {},
   "outputs": [],
   "source": [
    "import gc\n",
    "gc?"
   ]
  },
  {
   "cell_type": "code",
   "execution_count": null,
   "metadata": {},
   "outputs": [],
   "source": [
    " "
   ]
  }
 ],
 "metadata": {
  "kernelspec": {
   "display_name": "Python 3",
   "language": "python",
   "name": "python3"
  },
  "language_info": {
   "codemirror_mode": {
    "name": "ipython",
    "version": 3
   },
   "file_extension": ".py",
   "mimetype": "text/x-python",
   "name": "python",
   "nbconvert_exporter": "python",
   "pygments_lexer": "ipython3",
   "version": "3.7.2"
  }
 },
 "nbformat": 4,
 "nbformat_minor": 2
}
